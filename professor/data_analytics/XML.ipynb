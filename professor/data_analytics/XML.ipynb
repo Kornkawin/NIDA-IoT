{
 "cells": [
  {
   "cell_type": "code",
   "execution_count": 1,
   "id": "5863fc35",
   "metadata": {},
   "outputs": [],
   "source": [
    "import xml.etree.ElementTree as ET"
   ]
  },
  {
   "cell_type": "code",
   "execution_count": 2,
   "id": "26709974",
   "metadata": {},
   "outputs": [],
   "source": [
    "tree = ET.parse('xml_data.xml')"
   ]
  },
  {
   "cell_type": "code",
   "execution_count": 3,
   "id": "1b96a296",
   "metadata": {},
   "outputs": [
    {
     "data": {
      "text/plain": [
       "<xml.etree.ElementTree.ElementTree at 0x111119570>"
      ]
     },
     "execution_count": 3,
     "metadata": {},
     "output_type": "execute_result"
    }
   ],
   "source": [
    "tree"
   ]
  },
  {
   "cell_type": "code",
   "execution_count": 4,
   "id": "04d33f65",
   "metadata": {},
   "outputs": [],
   "source": [
    "root = tree.getroot()"
   ]
  },
  {
   "cell_type": "code",
   "execution_count": 5,
   "id": "e98b8e76",
   "metadata": {},
   "outputs": [],
   "source": [
    "temperature = root.find('temperature').text"
   ]
  },
  {
   "cell_type": "code",
   "execution_count": 6,
   "id": "81ecf84d",
   "metadata": {},
   "outputs": [
    {
     "data": {
      "text/plain": [
       "'23.5'"
      ]
     },
     "execution_count": 6,
     "metadata": {},
     "output_type": "execute_result"
    }
   ],
   "source": [
    "temperature"
   ]
  },
  {
   "cell_type": "code",
   "execution_count": 7,
   "id": "f472f591",
   "metadata": {},
   "outputs": [],
   "source": [
    "humidity = root.find('humidity').text"
   ]
  },
  {
   "cell_type": "code",
   "execution_count": 8,
   "id": "245e30e1",
   "metadata": {},
   "outputs": [
    {
     "data": {
      "text/plain": [
       "'60.2'"
      ]
     },
     "execution_count": 8,
     "metadata": {},
     "output_type": "execute_result"
    }
   ],
   "source": [
    "humidity"
   ]
  },
  {
   "cell_type": "code",
   "execution_count": null,
   "id": "4665d09b",
   "metadata": {},
   "outputs": [],
   "source": []
  }
 ],
 "metadata": {
  "kernelspec": {
   "display_name": "Python 3 (ipykernel)",
   "language": "python",
   "name": "python3"
  },
  "language_info": {
   "codemirror_mode": {
    "name": "ipython",
    "version": 3
   },
   "file_extension": ".py",
   "mimetype": "text/x-python",
   "name": "python",
   "nbconvert_exporter": "python",
   "pygments_lexer": "ipython3",
   "version": "3.10.6"
  }
 },
 "nbformat": 4,
 "nbformat_minor": 5
}
