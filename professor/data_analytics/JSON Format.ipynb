{
 "cells": [
  {
   "cell_type": "code",
   "execution_count": 1,
   "id": "055c5cb1",
   "metadata": {},
   "outputs": [],
   "source": [
    "import json"
   ]
  },
  {
   "cell_type": "code",
   "execution_count": 3,
   "id": "562fe73c",
   "metadata": {},
   "outputs": [],
   "source": [
    "with open('json_data.json') as f:\n",
    "    json_data = f.read()"
   ]
  },
  {
   "cell_type": "code",
   "execution_count": 4,
   "id": "7a34d8dc",
   "metadata": {},
   "outputs": [
    {
     "data": {
      "text/plain": [
       "'{\"temperature\": 23.5, \\n \"humidity\": 60.2}\\n'"
      ]
     },
     "execution_count": 4,
     "metadata": {},
     "output_type": "execute_result"
    }
   ],
   "source": [
    "json_data"
   ]
  },
  {
   "cell_type": "code",
   "execution_count": 6,
   "id": "b003ae8f",
   "metadata": {},
   "outputs": [],
   "source": [
    "parsed_data = json.loads(json_data)"
   ]
  },
  {
   "cell_type": "code",
   "execution_count": 7,
   "id": "335963ac",
   "metadata": {},
   "outputs": [
    {
     "data": {
      "text/plain": [
       "{'temperature': 23.5, 'humidity': 60.2}"
      ]
     },
     "execution_count": 7,
     "metadata": {},
     "output_type": "execute_result"
    }
   ],
   "source": [
    "parsed_data"
   ]
  },
  {
   "cell_type": "code",
   "execution_count": 8,
   "id": "41326ba8",
   "metadata": {},
   "outputs": [],
   "source": [
    "with open('json_data.json') as f:\n",
    "    data = json.load(f)"
   ]
  },
  {
   "cell_type": "code",
   "execution_count": 9,
   "id": "8563b8a4",
   "metadata": {},
   "outputs": [
    {
     "data": {
      "text/plain": [
       "{'temperature': 23.5, 'humidity': 60.2}"
      ]
     },
     "execution_count": 9,
     "metadata": {},
     "output_type": "execute_result"
    }
   ],
   "source": [
    "data"
   ]
  },
  {
   "cell_type": "code",
   "execution_count": 10,
   "id": "5398435a",
   "metadata": {},
   "outputs": [
    {
     "data": {
      "text/plain": [
       "23.5"
      ]
     },
     "execution_count": 10,
     "metadata": {},
     "output_type": "execute_result"
    }
   ],
   "source": [
    "data['temperature']"
   ]
  },
  {
   "cell_type": "code",
   "execution_count": 11,
   "id": "603fd86a",
   "metadata": {},
   "outputs": [
    {
     "data": {
      "text/plain": [
       "60.2"
      ]
     },
     "execution_count": 11,
     "metadata": {},
     "output_type": "execute_result"
    }
   ],
   "source": [
    "data['humidity']"
   ]
  },
  {
   "cell_type": "code",
   "execution_count": 12,
   "id": "26e4d164",
   "metadata": {},
   "outputs": [],
   "source": [
    "json_str = json.dumps(data, indent=4)"
   ]
  },
  {
   "cell_type": "code",
   "execution_count": 13,
   "id": "9ef10168",
   "metadata": {},
   "outputs": [
    {
     "data": {
      "text/plain": [
       "'{\\n    \"temperature\": 23.5,\\n    \"humidity\": 60.2\\n}'"
      ]
     },
     "execution_count": 13,
     "metadata": {},
     "output_type": "execute_result"
    }
   ],
   "source": [
    "json_str"
   ]
  },
  {
   "cell_type": "code",
   "execution_count": 14,
   "id": "a3ecb280",
   "metadata": {},
   "outputs": [
    {
     "name": "stdout",
     "output_type": "stream",
     "text": [
      "{\n",
      "    \"temperature\": 23.5,\n",
      "    \"humidity\": 60.2\n",
      "}\n"
     ]
    }
   ],
   "source": [
    "print(json_str)"
   ]
  },
  {
   "cell_type": "code",
   "execution_count": 15,
   "id": "76306eea",
   "metadata": {},
   "outputs": [],
   "source": [
    "with open('turbine_data.json') as f:\n",
    "    turbine_data = json.load(f)"
   ]
  },
  {
   "cell_type": "code",
   "execution_count": 16,
   "id": "df484471",
   "metadata": {},
   "outputs": [
    {
     "data": {
      "text/plain": [
       "{'Header': {'ID': 'Asset123',\n",
       "  'SNo': 'Gateway456',\n",
       "  'AType': 5,\n",
       "  'DType': 1,\n",
       "  'UID': 'Unit789',\n",
       "  'Ver': '1.0',\n",
       "  'Dflag': '3;1;1;1;100'},\n",
       " 'data': [{'rtc': '2022-03-01T10:30:00',\n",
       "   'temp': 25.4,\n",
       "   'pressure': 1013.25,\n",
       "   'wind_speed': 12.3,\n",
       "   'rpm': 1500,\n",
       "   'energy_output': 1000}]}"
      ]
     },
     "execution_count": 16,
     "metadata": {},
     "output_type": "execute_result"
    }
   ],
   "source": [
    "turbine_data"
   ]
  },
  {
   "cell_type": "code",
   "execution_count": 17,
   "id": "3b964a1c",
   "metadata": {},
   "outputs": [
    {
     "data": {
      "text/plain": [
       "{'ID': 'Asset123',\n",
       " 'SNo': 'Gateway456',\n",
       " 'AType': 5,\n",
       " 'DType': 1,\n",
       " 'UID': 'Unit789',\n",
       " 'Ver': '1.0',\n",
       " 'Dflag': '3;1;1;1;100'}"
      ]
     },
     "execution_count": 17,
     "metadata": {},
     "output_type": "execute_result"
    }
   ],
   "source": [
    "turbine_data['Header']"
   ]
  },
  {
   "cell_type": "code",
   "execution_count": 18,
   "id": "cf06422d",
   "metadata": {},
   "outputs": [
    {
     "data": {
      "text/plain": [
       "'Asset123'"
      ]
     },
     "execution_count": 18,
     "metadata": {},
     "output_type": "execute_result"
    }
   ],
   "source": [
    "turbine_data['Header']['ID']"
   ]
  },
  {
   "cell_type": "code",
   "execution_count": 19,
   "id": "3839361b",
   "metadata": {},
   "outputs": [
    {
     "data": {
      "text/plain": [
       "[{'rtc': '2022-03-01T10:30:00',\n",
       "  'temp': 25.4,\n",
       "  'pressure': 1013.25,\n",
       "  'wind_speed': 12.3,\n",
       "  'rpm': 1500,\n",
       "  'energy_output': 1000}]"
      ]
     },
     "execution_count": 19,
     "metadata": {},
     "output_type": "execute_result"
    }
   ],
   "source": [
    "turbine_data['data']"
   ]
  },
  {
   "cell_type": "code",
   "execution_count": 20,
   "id": "74867642",
   "metadata": {},
   "outputs": [
    {
     "data": {
      "text/plain": [
       "{'rtc': '2022-03-01T10:30:00',\n",
       " 'temp': 25.4,\n",
       " 'pressure': 1013.25,\n",
       " 'wind_speed': 12.3,\n",
       " 'rpm': 1500,\n",
       " 'energy_output': 1000}"
      ]
     },
     "execution_count": 20,
     "metadata": {},
     "output_type": "execute_result"
    }
   ],
   "source": [
    "turbine_data['data'][0]"
   ]
  },
  {
   "cell_type": "code",
   "execution_count": 21,
   "id": "a734327e",
   "metadata": {},
   "outputs": [
    {
     "data": {
      "text/plain": [
       "25.4"
      ]
     },
     "execution_count": 21,
     "metadata": {},
     "output_type": "execute_result"
    }
   ],
   "source": [
    "turbine_data['data'][0]['temp']"
   ]
  },
  {
   "cell_type": "code",
   "execution_count": 23,
   "id": "061e5d25",
   "metadata": {},
   "outputs": [],
   "source": [
    "data1 = turbine_data['data'][0].copy()\n",
    "data1['rpm'] = 3000"
   ]
  },
  {
   "cell_type": "code",
   "execution_count": 24,
   "id": "ce85e039",
   "metadata": {},
   "outputs": [
    {
     "data": {
      "text/plain": [
       "{'rtc': '2022-03-01T10:30:00',\n",
       " 'temp': 25.4,\n",
       " 'pressure': 1013.25,\n",
       " 'wind_speed': 12.3,\n",
       " 'rpm': 3000,\n",
       " 'energy_output': 1000}"
      ]
     },
     "execution_count": 24,
     "metadata": {},
     "output_type": "execute_result"
    }
   ],
   "source": [
    "data1"
   ]
  },
  {
   "cell_type": "code",
   "execution_count": 25,
   "id": "c5cd17d6",
   "metadata": {},
   "outputs": [],
   "source": [
    "turbine_data['data'].append(data1)"
   ]
  },
  {
   "cell_type": "code",
   "execution_count": 26,
   "id": "596c60b5",
   "metadata": {},
   "outputs": [
    {
     "data": {
      "text/plain": [
       "{'Header': {'ID': 'Asset123',\n",
       "  'SNo': 'Gateway456',\n",
       "  'AType': 5,\n",
       "  'DType': 1,\n",
       "  'UID': 'Unit789',\n",
       "  'Ver': '1.0',\n",
       "  'Dflag': '3;1;1;1;100'},\n",
       " 'data': [{'rtc': '2022-03-01T10:30:00',\n",
       "   'temp': 25.4,\n",
       "   'pressure': 1013.25,\n",
       "   'wind_speed': 12.3,\n",
       "   'rpm': 1500,\n",
       "   'energy_output': 1000},\n",
       "  {'rtc': '2022-03-01T10:30:00',\n",
       "   'temp': 25.4,\n",
       "   'pressure': 1013.25,\n",
       "   'wind_speed': 12.3,\n",
       "   'rpm': 3000,\n",
       "   'energy_output': 1000}]}"
      ]
     },
     "execution_count": 26,
     "metadata": {},
     "output_type": "execute_result"
    }
   ],
   "source": [
    "turbine_data"
   ]
  },
  {
   "cell_type": "code",
   "execution_count": 27,
   "id": "ddba4a6d",
   "metadata": {},
   "outputs": [],
   "source": [
    "with open('turbine_data2.json', 'w') as f:\n",
    "    json.dump(turbine_data, f, indent=4)"
   ]
  },
  {
   "cell_type": "code",
   "execution_count": null,
   "id": "3a649464",
   "metadata": {},
   "outputs": [],
   "source": []
  }
 ],
 "metadata": {
  "kernelspec": {
   "display_name": "Python 3 (ipykernel)",
   "language": "python",
   "name": "python3"
  },
  "language_info": {
   "codemirror_mode": {
    "name": "ipython",
    "version": 3
   },
   "file_extension": ".py",
   "mimetype": "text/x-python",
   "name": "python",
   "nbconvert_exporter": "python",
   "pygments_lexer": "ipython3",
   "version": "3.10.6"
  }
 },
 "nbformat": 4,
 "nbformat_minor": 5
}
