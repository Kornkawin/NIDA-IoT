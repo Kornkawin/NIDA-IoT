{
 "cells": [
  {
   "cell_type": "code",
   "execution_count": 2,
   "id": "1fb2220e",
   "metadata": {},
   "outputs": [],
   "source": [
    "import cbor2"
   ]
  },
  {
   "cell_type": "code",
   "execution_count": 3,
   "id": "5f297a10",
   "metadata": {},
   "outputs": [],
   "source": [
    "data = {'temperature': 25.5, 'humidity': 69.5}"
   ]
  },
  {
   "cell_type": "code",
   "execution_count": 4,
   "id": "e24aa831",
   "metadata": {},
   "outputs": [],
   "source": [
    "serialized_data = cbor2.dumps(data)"
   ]
  },
  {
   "cell_type": "code",
   "execution_count": 5,
   "id": "f67c830c",
   "metadata": {},
   "outputs": [
    {
     "data": {
      "text/plain": [
       "b'\\xa2ktemperature\\xfb@9\\x80\\x00\\x00\\x00\\x00\\x00hhumidity\\xfb@Q`\\x00\\x00\\x00\\x00\\x00'"
      ]
     },
     "execution_count": 5,
     "metadata": {},
     "output_type": "execute_result"
    }
   ],
   "source": [
    "serialized_data"
   ]
  },
  {
   "cell_type": "code",
   "execution_count": 6,
   "id": "b789ab97",
   "metadata": {},
   "outputs": [],
   "source": [
    "data2 = cbor2.loads(serialized_data)"
   ]
  },
  {
   "cell_type": "code",
   "execution_count": 7,
   "id": "5f30e296",
   "metadata": {},
   "outputs": [
    {
     "data": {
      "text/plain": [
       "{'temperature': 25.5, 'humidity': 69.5}"
      ]
     },
     "execution_count": 7,
     "metadata": {},
     "output_type": "execute_result"
    }
   ],
   "source": [
    "data2"
   ]
  },
  {
   "cell_type": "code",
   "execution_count": null,
   "id": "7c3dbc57",
   "metadata": {},
   "outputs": [],
   "source": []
  }
 ],
 "metadata": {
  "kernelspec": {
   "display_name": "Python 3 (ipykernel)",
   "language": "python",
   "name": "python3"
  },
  "language_info": {
   "codemirror_mode": {
    "name": "ipython",
    "version": 3
   },
   "file_extension": ".py",
   "mimetype": "text/x-python",
   "name": "python",
   "nbconvert_exporter": "python",
   "pygments_lexer": "ipython3",
   "version": "3.10.6"
  }
 },
 "nbformat": 4,
 "nbformat_minor": 5
}
