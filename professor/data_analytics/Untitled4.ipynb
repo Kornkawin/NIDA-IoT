{
 "cells": [
  {
   "cell_type": "code",
   "execution_count": 1,
   "id": "a37a2c27",
   "metadata": {},
   "outputs": [],
   "source": [
    "import numpy as np\n",
    "import datetime #This package has all datetime processing functions\n",
    "import pandas as pd\n",
    "from scipy import stats"
   ]
  },
  {
   "cell_type": "code",
   "execution_count": 2,
   "id": "c3883318",
   "metadata": {},
   "outputs": [],
   "source": [
    "# Set the random seed for reproducibility\n",
    "np.random.seed(42)\n",
    "# Define the number of data points to generate\n",
    "num_rows = 1440 # This will generate 1440 rows of data\n",
    "# Define the start and end dates for the data generation. This is required for time series analysis.\n",
    "start_date = datetime.datetime(2023, 1, 1) #\n",
    "end_date = datetime.datetime(2023, 1, 2)\n",
    "# We simulate an IIOT equipment, wind turbine, for our simulation. Define the turbine parameters and their normal ranges\n",
    "temperature_mean = 80\n",
    "temperature_stddev = 10\n",
    "pressure_mean = 30000\n",
    "pressure_stddev = 5000\n",
    "wind_speed_mean = 10\n",
    "wind_speed_stddev = 5\n",
    "rpm_mean = 1500\n",
    "rpm_stddev = 250\n",
    "energy_output_mean = 50\n",
    "energy_output_stddev = 10"
   ]
  },
  {
   "cell_type": "code",
   "execution_count": 3,
   "id": "d08c8d34",
   "metadata": {},
   "outputs": [],
   "source": [
    "# Generate the data\n",
    "timestamps = np.arange(start_date, end_date, dtype='datetime64[m]')\n",
    "temperature = np.random.normal(temperature_mean, temperature_stddev, num_rows)\n",
    "pressure = np.random.normal(pressure_mean, pressure_stddev, num_rows)/ 100 # Scale pressure by a factor of 100\n",
    "wind_speed = np.random.normal(wind_speed_mean, wind_speed_stddev, num_rows)\n",
    "rpm = np.random.normal(rpm_mean, rpm_stddev, num_rows)"
   ]
  },
  {
   "cell_type": "code",
   "execution_count": 4,
   "id": "babc6f07",
   "metadata": {},
   "outputs": [],
   "source": [
    "# Create a linear relationship between wind speed and energy output with a coefficient of 0.3\n",
    "energy_output = energy_output_mean + 0.3 * (wind_speed -\n",
    "wind_speed_mean) + np.random.normal(0, energy_output_stddev, num_rows)"
   ]
  },
  {
   "cell_type": "code",
   "execution_count": 5,
   "id": "4f1bc85a",
   "metadata": {},
   "outputs": [],
   "source": [
    "# Introduce missing values by randomly setting 10% of the energy output values to NaN\n",
    "energy_output_mask = np.random.rand(num_rows) < 0.1\n",
    "energy_output[energy_output_mask] = np.nan"
   ]
  },
  {
   "cell_type": "code",
   "execution_count": 6,
   "id": "d9c1377c",
   "metadata": {},
   "outputs": [
    {
     "data": {
      "text/plain": [
       "array([False, False, False, ..., False, False, False])"
      ]
     },
     "execution_count": 6,
     "metadata": {},
     "output_type": "execute_result"
    }
   ],
   "source": [
    "energy_output_mask"
   ]
  },
  {
   "cell_type": "code",
   "execution_count": 8,
   "id": "82844553",
   "metadata": {},
   "outputs": [
    {
     "data": {
      "text/plain": [
       "array([False, False, False, ..., False, False, False])"
      ]
     },
     "execution_count": 8,
     "metadata": {},
     "output_type": "execute_result"
    }
   ],
   "source": [
    "np.random.rand(num_rows) < 0.1"
   ]
  },
  {
   "cell_type": "code",
   "execution_count": 9,
   "id": "ddf77fc8",
   "metadata": {},
   "outputs": [
    {
     "data": {
      "text/plain": [
       "array([46.93695907, 51.98539423, 39.27644287, ..., 50.648279  ,\n",
       "       67.98664899, 34.70321093])"
      ]
     },
     "execution_count": 9,
     "metadata": {},
     "output_type": "execute_result"
    }
   ],
   "source": [
    "energy_output"
   ]
  },
  {
   "cell_type": "code",
   "execution_count": 11,
   "id": "989bcb86",
   "metadata": {},
   "outputs": [],
   "source": [
    "# Introduce outliers by randomly setting 20% of the rpm values to be greater than 3 standard deviations from the mean\n",
    "rpm_outliers = np.random.rand(num_rows) < 0.2\n",
    "rpm[rpm_outliers] = np.random.normal(loc=3, scale=1, size=rpm_outliers.sum()) * rpm_stddev + rpm_mean"
   ]
  },
  {
   "cell_type": "code",
   "execution_count": null,
   "id": "1589c970",
   "metadata": {},
   "outputs": [],
   "source": []
  }
 ],
 "metadata": {
  "kernelspec": {
   "display_name": "Python 3 (ipykernel)",
   "language": "python",
   "name": "python3"
  },
  "language_info": {
   "codemirror_mode": {
    "name": "ipython",
    "version": 3
   },
   "file_extension": ".py",
   "mimetype": "text/x-python",
   "name": "python",
   "nbconvert_exporter": "python",
   "pygments_lexer": "ipython3",
   "version": "3.10.6"
  }
 },
 "nbformat": 4,
 "nbformat_minor": 5
}
