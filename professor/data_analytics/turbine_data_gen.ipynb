{
 "cells": [
  {
   "cell_type": "code",
   "execution_count": 1,
   "id": "a82f18b3",
   "metadata": {},
   "outputs": [],
   "source": [
    "import numpy as np\n",
    "import datetime\n",
    "import pandas as pd"
   ]
  },
  {
   "cell_type": "code",
   "execution_count": 2,
   "id": "f8ccb1b3",
   "metadata": {},
   "outputs": [],
   "source": [
    "np.random.seed(42)"
   ]
  },
  {
   "cell_type": "code",
   "execution_count": 3,
   "id": "f3d9837e",
   "metadata": {},
   "outputs": [],
   "source": [
    "num_rows = 1440"
   ]
  },
  {
   "cell_type": "code",
   "execution_count": 4,
   "id": "f020b1ff",
   "metadata": {},
   "outputs": [],
   "source": [
    "start_date = datetime.datetime(2024, 3, 1)\n",
    "end_date = datetime.datetime(2024, 3, 2)"
   ]
  },
  {
   "cell_type": "code",
   "execution_count": 5,
   "id": "f102c7a6",
   "metadata": {},
   "outputs": [],
   "source": [
    "temperature_mean = 80\n",
    "temperature_stddev = 10\n",
    "pressure_mean = 300\n",
    "pressure_stddev = 50\n",
    "wind_speed_mean = 10\n",
    "wind_speed_stddev = 5\n",
    "rpm_mean = 1500\n",
    "rpm_stddev = 250\n",
    "energy_output_mean = 50\n",
    "energy_output_stddev = 10"
   ]
  },
  {
   "cell_type": "code",
   "execution_count": 21,
   "id": "c24cd137",
   "metadata": {},
   "outputs": [],
   "source": [
    "timestamps = np.arange(start_date, end_date, dtype='datetime64[m]')\n",
    "temperature = np.random.normal(temperature_mean, temperature_stddev, num_rows)\n",
    "pressure = np.random.normal(pressure_mean, pressure_stddev, num_rows)\n",
    "wind_speed = np.random.normal(wind_speed_mean, wind_speed_stddev, num_rows)\n",
    "rpm = np.random.normal(rpm_mean, rpm_stddev, num_rows)\n",
    "# Create a linear relationship between wind speed and energy output with a coefficient of 0.3\n",
    "energy_output = energy_output_mean + 0.3 * (wind_speed - wind_speed_mean) + np.random.normal(0, 1, num_rows)"
   ]
  },
  {
   "cell_type": "code",
   "execution_count": 22,
   "id": "f0660236",
   "metadata": {},
   "outputs": [],
   "source": [
    "data = pd.DataFrame({'timestamps': timestamps, 'temperature': temperature, 'pressure': pressure,\n",
    "                    'wind_speed': wind_speed, 'rpm': rpm, 'energy_output': energy_output})"
   ]
  },
  {
   "cell_type": "code",
   "execution_count": 23,
   "id": "4e217c08",
   "metadata": {},
   "outputs": [
    {
     "data": {
      "text/html": [
       "<div>\n",
       "<style scoped>\n",
       "    .dataframe tbody tr th:only-of-type {\n",
       "        vertical-align: middle;\n",
       "    }\n",
       "\n",
       "    .dataframe tbody tr th {\n",
       "        vertical-align: top;\n",
       "    }\n",
       "\n",
       "    .dataframe thead th {\n",
       "        text-align: right;\n",
       "    }\n",
       "</style>\n",
       "<table border=\"1\" class=\"dataframe\">\n",
       "  <thead>\n",
       "    <tr style=\"text-align: right;\">\n",
       "      <th></th>\n",
       "      <th>timestamps</th>\n",
       "      <th>temperature</th>\n",
       "      <th>pressure</th>\n",
       "      <th>wind_speed</th>\n",
       "      <th>rpm</th>\n",
       "      <th>energy_output</th>\n",
       "    </tr>\n",
       "  </thead>\n",
       "  <tbody>\n",
       "    <tr>\n",
       "      <th>0</th>\n",
       "      <td>2024-03-01 00:00:00</td>\n",
       "      <td>83.461469</td>\n",
       "      <td>320.237375</td>\n",
       "      <td>8.521672</td>\n",
       "      <td>1607.632403</td>\n",
       "      <td>49.878046</td>\n",
       "    </tr>\n",
       "    <tr>\n",
       "      <th>1</th>\n",
       "      <td>2024-03-01 00:01:00</td>\n",
       "      <td>72.234567</td>\n",
       "      <td>258.605357</td>\n",
       "      <td>11.917836</td>\n",
       "      <td>1410.412267</td>\n",
       "      <td>51.908918</td>\n",
       "    </tr>\n",
       "    <tr>\n",
       "      <th>2</th>\n",
       "      <td>2024-03-01 00:02:00</td>\n",
       "      <td>87.463949</td>\n",
       "      <td>291.408748</td>\n",
       "      <td>15.198162</td>\n",
       "      <td>1467.465233</td>\n",
       "      <td>50.807555</td>\n",
       "    </tr>\n",
       "    <tr>\n",
       "      <th>3</th>\n",
       "      <td>2024-03-01 00:03:00</td>\n",
       "      <td>82.653281</td>\n",
       "      <td>277.048837</td>\n",
       "      <td>4.817437</td>\n",
       "      <td>1397.236048</td>\n",
       "      <td>50.723340</td>\n",
       "    </tr>\n",
       "    <tr>\n",
       "      <th>4</th>\n",
       "      <td>2024-03-01 00:04:00</td>\n",
       "      <td>76.596048</td>\n",
       "      <td>321.767906</td>\n",
       "      <td>15.054548</td>\n",
       "      <td>1680.040858</td>\n",
       "      <td>52.073233</td>\n",
       "    </tr>\n",
       "    <tr>\n",
       "      <th>...</th>\n",
       "      <td>...</td>\n",
       "      <td>...</td>\n",
       "      <td>...</td>\n",
       "      <td>...</td>\n",
       "      <td>...</td>\n",
       "      <td>...</td>\n",
       "    </tr>\n",
       "    <tr>\n",
       "      <th>1435</th>\n",
       "      <td>2024-03-01 23:55:00</td>\n",
       "      <td>94.306244</td>\n",
       "      <td>385.999227</td>\n",
       "      <td>13.298874</td>\n",
       "      <td>1712.558263</td>\n",
       "      <td>50.973704</td>\n",
       "    </tr>\n",
       "    <tr>\n",
       "      <th>1436</th>\n",
       "      <td>2024-03-01 23:56:00</td>\n",
       "      <td>77.634534</td>\n",
       "      <td>370.180983</td>\n",
       "      <td>15.633618</td>\n",
       "      <td>1501.985131</td>\n",
       "      <td>52.496563</td>\n",
       "    </tr>\n",
       "    <tr>\n",
       "      <th>1437</th>\n",
       "      <td>2024-03-01 23:57:00</td>\n",
       "      <td>81.557173</td>\n",
       "      <td>291.791419</td>\n",
       "      <td>2.566408</td>\n",
       "      <td>1505.374226</td>\n",
       "      <td>45.666873</td>\n",
       "    </tr>\n",
       "    <tr>\n",
       "      <th>1438</th>\n",
       "      <td>2024-03-01 23:58:00</td>\n",
       "      <td>89.843625</td>\n",
       "      <td>255.135341</td>\n",
       "      <td>9.094246</td>\n",
       "      <td>1134.341274</td>\n",
       "      <td>48.454785</td>\n",
       "    </tr>\n",
       "    <tr>\n",
       "      <th>1439</th>\n",
       "      <td>2024-03-01 23:59:00</td>\n",
       "      <td>66.705064</td>\n",
       "      <td>278.711506</td>\n",
       "      <td>4.677410</td>\n",
       "      <td>1482.228467</td>\n",
       "      <td>48.068135</td>\n",
       "    </tr>\n",
       "  </tbody>\n",
       "</table>\n",
       "<p>1440 rows × 6 columns</p>\n",
       "</div>"
      ],
      "text/plain": [
       "              timestamps  temperature    pressure  wind_speed          rpm  \\\n",
       "0    2024-03-01 00:00:00    83.461469  320.237375    8.521672  1607.632403   \n",
       "1    2024-03-01 00:01:00    72.234567  258.605357   11.917836  1410.412267   \n",
       "2    2024-03-01 00:02:00    87.463949  291.408748   15.198162  1467.465233   \n",
       "3    2024-03-01 00:03:00    82.653281  277.048837    4.817437  1397.236048   \n",
       "4    2024-03-01 00:04:00    76.596048  321.767906   15.054548  1680.040858   \n",
       "...                  ...          ...         ...         ...          ...   \n",
       "1435 2024-03-01 23:55:00    94.306244  385.999227   13.298874  1712.558263   \n",
       "1436 2024-03-01 23:56:00    77.634534  370.180983   15.633618  1501.985131   \n",
       "1437 2024-03-01 23:57:00    81.557173  291.791419    2.566408  1505.374226   \n",
       "1438 2024-03-01 23:58:00    89.843625  255.135341    9.094246  1134.341274   \n",
       "1439 2024-03-01 23:59:00    66.705064  278.711506    4.677410  1482.228467   \n",
       "\n",
       "      energy_output  \n",
       "0         49.878046  \n",
       "1         51.908918  \n",
       "2         50.807555  \n",
       "3         50.723340  \n",
       "4         52.073233  \n",
       "...             ...  \n",
       "1435      50.973704  \n",
       "1436      52.496563  \n",
       "1437      45.666873  \n",
       "1438      48.454785  \n",
       "1439      48.068135  \n",
       "\n",
       "[1440 rows x 6 columns]"
      ]
     },
     "execution_count": 23,
     "metadata": {},
     "output_type": "execute_result"
    }
   ],
   "source": [
    "data"
   ]
  },
  {
   "cell_type": "code",
   "execution_count": 24,
   "id": "aa5db383",
   "metadata": {},
   "outputs": [],
   "source": [
    "data.to_csv('wind_turbine1.csv', index=False)"
   ]
  },
  {
   "cell_type": "code",
   "execution_count": 16,
   "id": "99776e79",
   "metadata": {},
   "outputs": [],
   "source": []
  },
  {
   "cell_type": "code",
   "execution_count": null,
   "id": "a14f2fdb",
   "metadata": {},
   "outputs": [],
   "source": []
  }
 ],
 "metadata": {
  "kernelspec": {
   "display_name": "Python 3 (ipykernel)",
   "language": "python",
   "name": "python3"
  },
  "language_info": {
   "codemirror_mode": {
    "name": "ipython",
    "version": 3
   },
   "file_extension": ".py",
   "mimetype": "text/x-python",
   "name": "python",
   "nbconvert_exporter": "python",
   "pygments_lexer": "ipython3",
   "version": "3.10.6"
  }
 },
 "nbformat": 4,
 "nbformat_minor": 5
}
