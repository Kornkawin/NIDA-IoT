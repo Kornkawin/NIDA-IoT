{
 "cells": [
  {
   "cell_type": "code",
   "execution_count": 1,
   "id": "59dab9f1",
   "metadata": {},
   "outputs": [],
   "source": [
    "import numpy as np\n",
    "import pandas as pd"
   ]
  },
  {
   "cell_type": "code",
   "execution_count": 6,
   "id": "2188d442",
   "metadata": {},
   "outputs": [],
   "source": [
    "df = pd.read_csv('wind_turbine_with_issues.csv', parse_dates=['timestamps'])"
   ]
  },
  {
   "cell_type": "code",
   "execution_count": 7,
   "id": "664cbe36",
   "metadata": {},
   "outputs": [
    {
     "data": {
      "text/html": [
       "<div>\n",
       "<style scoped>\n",
       "    .dataframe tbody tr th:only-of-type {\n",
       "        vertical-align: middle;\n",
       "    }\n",
       "\n",
       "    .dataframe tbody tr th {\n",
       "        vertical-align: top;\n",
       "    }\n",
       "\n",
       "    .dataframe thead th {\n",
       "        text-align: right;\n",
       "    }\n",
       "</style>\n",
       "<table border=\"1\" class=\"dataframe\">\n",
       "  <thead>\n",
       "    <tr style=\"text-align: right;\">\n",
       "      <th></th>\n",
       "      <th>timestamps</th>\n",
       "      <th>temperature</th>\n",
       "      <th>pressure</th>\n",
       "      <th>wind_speed</th>\n",
       "      <th>rpm</th>\n",
       "      <th>energy_output</th>\n",
       "    </tr>\n",
       "  </thead>\n",
       "  <tbody>\n",
       "    <tr>\n",
       "      <th>0</th>\n",
       "      <td>2023-01-01 00:00:00</td>\n",
       "      <td>84.967142</td>\n",
       "      <td>333.144063</td>\n",
       "      <td>-1.191156</td>\n",
       "      <td>1495.031591</td>\n",
       "      <td>46.936959</td>\n",
       "    </tr>\n",
       "    <tr>\n",
       "      <th>1</th>\n",
       "      <td>2023-01-01 00:01:00</td>\n",
       "      <td>78.617357</td>\n",
       "      <td>358.673693</td>\n",
       "      <td>-0.603501</td>\n",
       "      <td>1473.183809</td>\n",
       "      <td>51.985394</td>\n",
       "    </tr>\n",
       "    <tr>\n",
       "      <th>2</th>\n",
       "      <td>2023-01-01 00:02:00</td>\n",
       "      <td>86.476885</td>\n",
       "      <td>309.051078</td>\n",
       "      <td>6.965674</td>\n",
       "      <td>1805.070724</td>\n",
       "      <td>39.276443</td>\n",
       "    </tr>\n",
       "    <tr>\n",
       "      <th>3</th>\n",
       "      <td>2023-01-01 00:03:00</td>\n",
       "      <td>95.230299</td>\n",
       "      <td>235.158403</td>\n",
       "      <td>12.288433</td>\n",
       "      <td>1230.830218</td>\n",
       "      <td>36.638360</td>\n",
       "    </tr>\n",
       "    <tr>\n",
       "      <th>4</th>\n",
       "      <td>2023-01-01 00:04:00</td>\n",
       "      <td>77.658466</td>\n",
       "      <td>319.984398</td>\n",
       "      <td>-3.737524</td>\n",
       "      <td>1309.370190</td>\n",
       "      <td>46.950822</td>\n",
       "    </tr>\n",
       "    <tr>\n",
       "      <th>...</th>\n",
       "      <td>...</td>\n",
       "      <td>...</td>\n",
       "      <td>...</td>\n",
       "      <td>...</td>\n",
       "      <td>...</td>\n",
       "      <td>...</td>\n",
       "    </tr>\n",
       "    <tr>\n",
       "      <th>1579</th>\n",
       "      <td>2023-01-01 05:32:00</td>\n",
       "      <td>80.758046</td>\n",
       "      <td>268.867532</td>\n",
       "      <td>18.336121</td>\n",
       "      <td>1511.390970</td>\n",
       "      <td>50.873799</td>\n",
       "    </tr>\n",
       "    <tr>\n",
       "      <th>1580</th>\n",
       "      <td>2023-01-01 17:49:00</td>\n",
       "      <td>83.465039</td>\n",
       "      <td>233.877102</td>\n",
       "      <td>3.604846</td>\n",
       "      <td>955.508067</td>\n",
       "      <td>43.723809</td>\n",
       "    </tr>\n",
       "    <tr>\n",
       "      <th>1581</th>\n",
       "      <td>2023-01-01 06:59:00</td>\n",
       "      <td>80.675185</td>\n",
       "      <td>313.016092</td>\n",
       "      <td>15.686573</td>\n",
       "      <td>2050.448481</td>\n",
       "      <td>NaN</td>\n",
       "    </tr>\n",
       "    <tr>\n",
       "      <th>1582</th>\n",
       "      <td>2023-01-01 09:39:00</td>\n",
       "      <td>91.437540</td>\n",
       "      <td>238.037080</td>\n",
       "      <td>4.141728</td>\n",
       "      <td>1650.947630</td>\n",
       "      <td>47.791290</td>\n",
       "    </tr>\n",
       "    <tr>\n",
       "      <th>1583</th>\n",
       "      <td>2023-01-01 13:03:00</td>\n",
       "      <td>86.105857</td>\n",
       "      <td>290.938791</td>\n",
       "      <td>11.561891</td>\n",
       "      <td>2297.555805</td>\n",
       "      <td>48.693648</td>\n",
       "    </tr>\n",
       "  </tbody>\n",
       "</table>\n",
       "<p>1584 rows × 6 columns</p>\n",
       "</div>"
      ],
      "text/plain": [
       "              timestamps  temperature    pressure  wind_speed          rpm  \\\n",
       "0    2023-01-01 00:00:00    84.967142  333.144063   -1.191156  1495.031591   \n",
       "1    2023-01-01 00:01:00    78.617357  358.673693   -0.603501  1473.183809   \n",
       "2    2023-01-01 00:02:00    86.476885  309.051078    6.965674  1805.070724   \n",
       "3    2023-01-01 00:03:00    95.230299  235.158403   12.288433  1230.830218   \n",
       "4    2023-01-01 00:04:00    77.658466  319.984398   -3.737524  1309.370190   \n",
       "...                  ...          ...         ...         ...          ...   \n",
       "1579 2023-01-01 05:32:00    80.758046  268.867532   18.336121  1511.390970   \n",
       "1580 2023-01-01 17:49:00    83.465039  233.877102    3.604846   955.508067   \n",
       "1581 2023-01-01 06:59:00    80.675185  313.016092   15.686573  2050.448481   \n",
       "1582 2023-01-01 09:39:00    91.437540  238.037080    4.141728  1650.947630   \n",
       "1583 2023-01-01 13:03:00    86.105857  290.938791   11.561891  2297.555805   \n",
       "\n",
       "      energy_output  \n",
       "0         46.936959  \n",
       "1         51.985394  \n",
       "2         39.276443  \n",
       "3         36.638360  \n",
       "4         46.950822  \n",
       "...             ...  \n",
       "1579      50.873799  \n",
       "1580      43.723809  \n",
       "1581            NaN  \n",
       "1582      47.791290  \n",
       "1583      48.693648  \n",
       "\n",
       "[1584 rows x 6 columns]"
      ]
     },
     "execution_count": 7,
     "metadata": {},
     "output_type": "execute_result"
    }
   ],
   "source": [
    "df"
   ]
  },
  {
   "cell_type": "code",
   "execution_count": 9,
   "id": "3957bf90",
   "metadata": {},
   "outputs": [
    {
     "data": {
      "text/plain": [
       "timestamps         0\n",
       "temperature        0\n",
       "pressure           0\n",
       "wind_speed         0\n",
       "rpm                0\n",
       "energy_output    157\n",
       "dtype: int64"
      ]
     },
     "execution_count": 9,
     "metadata": {},
     "output_type": "execute_result"
    }
   ],
   "source": [
    "df.isnull().sum()"
   ]
  },
  {
   "cell_type": "code",
   "execution_count": 10,
   "id": "6d8f1a28",
   "metadata": {},
   "outputs": [],
   "source": [
    "mean = df['energy_output'].mean()"
   ]
  },
  {
   "cell_type": "code",
   "execution_count": 11,
   "id": "09e5a321",
   "metadata": {},
   "outputs": [],
   "source": [
    "df['energy_output'].fillna(mean, inplace=True)"
   ]
  },
  {
   "cell_type": "code",
   "execution_count": 13,
   "id": "c538a54c",
   "metadata": {},
   "outputs": [
    {
     "data": {
      "text/plain": [
       "timestamps       0\n",
       "temperature      0\n",
       "pressure         0\n",
       "wind_speed       0\n",
       "rpm              0\n",
       "energy_output    0\n",
       "dtype: int64"
      ]
     },
     "execution_count": 13,
     "metadata": {},
     "output_type": "execute_result"
    }
   ],
   "source": [
    "df.isnull().sum()"
   ]
  },
  {
   "cell_type": "code",
   "execution_count": 14,
   "id": "f6969882",
   "metadata": {},
   "outputs": [],
   "source": [
    "import seaborn as sns"
   ]
  },
  {
   "cell_type": "code",
   "execution_count": 15,
   "id": "d12f34b6",
   "metadata": {},
   "outputs": [
    {
     "name": "stderr",
     "output_type": "stream",
     "text": [
      "/Users/pramote/py310/lib/python3.10/site-packages/seaborn/_decorators.py:36: FutureWarning: Pass the following variable as a keyword arg: x. From version 0.12, the only valid positional argument will be `data`, and passing other arguments without an explicit keyword will result in an error or misinterpretation.\n",
      "  warnings.warn(\n"
     ]
    },
    {
     "data": {
      "text/plain": [
       "<AxesSubplot:xlabel='rpm'>"
      ]
     },
     "execution_count": 15,
     "metadata": {},
     "output_type": "execute_result"
    },
    {
     "data": {
      "image/png": "[encoded data removed]",
      "text/plain": [
       "<Figure size 432x288 with 1 Axes>"
      ]
     },
     "metadata": {
      "needs_background": "light"
     },
     "output_type": "display_data"
    }
   ],
   "source": [
    "sns.boxplot(df['rpm'])"
   ]
  },
  {
   "cell_type": "code",
   "execution_count": 18,
   "id": "08f67702",
   "metadata": {},
   "outputs": [
    {
     "data": {
      "text/plain": [
       "144"
      ]
     },
     "execution_count": 18,
     "metadata": {},
     "output_type": "execute_result"
    }
   ],
   "source": [
    "df.duplicated().sum()"
   ]
  },
  {
   "cell_type": "code",
   "execution_count": 19,
   "id": "d3c6b044",
   "metadata": {},
   "outputs": [],
   "source": [
    "df2 = df.drop_duplicates()"
   ]
  },
  {
   "cell_type": "code",
   "execution_count": 20,
   "id": "67a0db26",
   "metadata": {},
   "outputs": [
    {
     "data": {
      "text/plain": [
       "0"
      ]
     },
     "execution_count": 20,
     "metadata": {},
     "output_type": "execute_result"
    }
   ],
   "source": [
    "df2.duplicated().sum()"
   ]
  },
  {
   "cell_type": "code",
   "execution_count": 21,
   "id": "2b286509",
   "metadata": {},
   "outputs": [
    {
     "data": {
      "text/html": [
       "<div>\n",
       "<style scoped>\n",
       "    .dataframe tbody tr th:only-of-type {\n",
       "        vertical-align: middle;\n",
       "    }\n",
       "\n",
       "    .dataframe tbody tr th {\n",
       "        vertical-align: top;\n",
       "    }\n",
       "\n",
       "    .dataframe thead th {\n",
       "        text-align: right;\n",
       "    }\n",
       "</style>\n",
       "<table border=\"1\" class=\"dataframe\">\n",
       "  <thead>\n",
       "    <tr style=\"text-align: right;\">\n",
       "      <th></th>\n",
       "      <th>temperature</th>\n",
       "      <th>pressure</th>\n",
       "      <th>wind_speed</th>\n",
       "      <th>rpm</th>\n",
       "      <th>energy_output</th>\n",
       "    </tr>\n",
       "  </thead>\n",
       "  <tbody>\n",
       "    <tr>\n",
       "      <th>count</th>\n",
       "      <td>1440.000000</td>\n",
       "      <td>1440.000000</td>\n",
       "      <td>1440.000000</td>\n",
       "      <td>1440.000000</td>\n",
       "      <td>1440.000000</td>\n",
       "    </tr>\n",
       "    <tr>\n",
       "      <th>mean</th>\n",
       "      <td>80.398442</td>\n",
       "      <td>301.328017</td>\n",
       "      <td>9.811670</td>\n",
       "      <td>1644.842983</td>\n",
       "      <td>49.381726</td>\n",
       "    </tr>\n",
       "    <tr>\n",
       "      <th>std</th>\n",
       "      <td>9.873328</td>\n",
       "      <td>48.872090</td>\n",
       "      <td>5.135217</td>\n",
       "      <td>387.173394</td>\n",
       "      <td>10.012415</td>\n",
       "    </tr>\n",
       "    <tr>\n",
       "      <th>min</th>\n",
       "      <td>47.587327</td>\n",
       "      <td>149.024392</td>\n",
       "      <td>-5.038162</td>\n",
       "      <td>705.824047</td>\n",
       "      <td>19.286285</td>\n",
       "    </tr>\n",
       "    <tr>\n",
       "      <th>25%</th>\n",
       "      <td>73.625247</td>\n",
       "      <td>268.373805</td>\n",
       "      <td>6.344374</td>\n",
       "      <td>1375.582541</td>\n",
       "      <td>43.046765</td>\n",
       "    </tr>\n",
       "    <tr>\n",
       "      <th>50%</th>\n",
       "      <td>80.467086</td>\n",
       "      <td>300.176779</td>\n",
       "      <td>9.822917</td>\n",
       "      <td>1573.563623</td>\n",
       "      <td>49.438275</td>\n",
       "    </tr>\n",
       "    <tr>\n",
       "      <th>75%</th>\n",
       "      <td>86.709593</td>\n",
       "      <td>333.632279</td>\n",
       "      <td>13.167052</td>\n",
       "      <td>1830.844343</td>\n",
       "      <td>55.562728</td>\n",
       "    </tr>\n",
       "    <tr>\n",
       "      <th>max</th>\n",
       "      <td>118.527315</td>\n",
       "      <td>459.655378</td>\n",
       "      <td>29.631189</td>\n",
       "      <td>2882.592417</td>\n",
       "      <td>80.719648</td>\n",
       "    </tr>\n",
       "  </tbody>\n",
       "</table>\n",
       "</div>"
      ],
      "text/plain": [
       "       temperature     pressure   wind_speed          rpm  energy_output\n",
       "count  1440.000000  1440.000000  1440.000000  1440.000000    1440.000000\n",
       "mean     80.398442   301.328017     9.811670  1644.842983      49.381726\n",
       "std       9.873328    48.872090     5.135217   387.173394      10.012415\n",
       "min      47.587327   149.024392    -5.038162   705.824047      19.286285\n",
       "25%      73.625247   268.373805     6.344374  1375.582541      43.046765\n",
       "50%      80.467086   300.176779     9.822917  1573.563623      49.438275\n",
       "75%      86.709593   333.632279    13.167052  1830.844343      55.562728\n",
       "max     118.527315   459.655378    29.631189  2882.592417      80.719648"
      ]
     },
     "execution_count": 21,
     "metadata": {},
     "output_type": "execute_result"
    }
   ],
   "source": [
    "df2.describe()"
   ]
  },
  {
   "cell_type": "code",
   "execution_count": 22,
   "id": "ee8549cc",
   "metadata": {},
   "outputs": [
    {
     "data": {
      "text/html": [
       "<div>\n",
       "<style scoped>\n",
       "    .dataframe tbody tr th:only-of-type {\n",
       "        vertical-align: middle;\n",
       "    }\n",
       "\n",
       "    .dataframe tbody tr th {\n",
       "        vertical-align: top;\n",
       "    }\n",
       "\n",
       "    .dataframe thead th {\n",
       "        text-align: right;\n",
       "    }\n",
       "</style>\n",
       "<table border=\"1\" class=\"dataframe\">\n",
       "  <thead>\n",
       "    <tr style=\"text-align: right;\">\n",
       "      <th></th>\n",
       "      <th>temperature</th>\n",
       "      <th>pressure</th>\n",
       "      <th>wind_speed</th>\n",
       "      <th>rpm</th>\n",
       "      <th>energy_output</th>\n",
       "    </tr>\n",
       "  </thead>\n",
       "  <tbody>\n",
       "    <tr>\n",
       "      <th>count</th>\n",
       "      <td>1584.000000</td>\n",
       "      <td>1584.000000</td>\n",
       "      <td>1584.000000</td>\n",
       "      <td>1584.000000</td>\n",
       "      <td>1584.000000</td>\n",
       "    </tr>\n",
       "    <tr>\n",
       "      <th>mean</th>\n",
       "      <td>80.383618</td>\n",
       "      <td>300.878969</td>\n",
       "      <td>9.834489</td>\n",
       "      <td>1643.913519</td>\n",
       "      <td>49.438275</td>\n",
       "    </tr>\n",
       "    <tr>\n",
       "      <th>std</th>\n",
       "      <td>9.947091</td>\n",
       "      <td>48.910344</td>\n",
       "      <td>5.092708</td>\n",
       "      <td>383.146289</td>\n",
       "      <td>10.041525</td>\n",
       "    </tr>\n",
       "    <tr>\n",
       "      <th>min</th>\n",
       "      <td>47.587327</td>\n",
       "      <td>149.024392</td>\n",
       "      <td>-5.038162</td>\n",
       "      <td>705.824047</td>\n",
       "      <td>19.286285</td>\n",
       "    </tr>\n",
       "    <tr>\n",
       "      <th>25%</th>\n",
       "      <td>73.545170</td>\n",
       "      <td>267.698502</td>\n",
       "      <td>6.398352</td>\n",
       "      <td>1378.025488</td>\n",
       "      <td>43.087931</td>\n",
       "    </tr>\n",
       "    <tr>\n",
       "      <th>50%</th>\n",
       "      <td>80.467086</td>\n",
       "      <td>299.292750</td>\n",
       "      <td>9.841290</td>\n",
       "      <td>1574.656199</td>\n",
       "      <td>49.438275</td>\n",
       "    </tr>\n",
       "    <tr>\n",
       "      <th>75%</th>\n",
       "      <td>86.640161</td>\n",
       "      <td>333.315625</td>\n",
       "      <td>13.061919</td>\n",
       "      <td>1830.844343</td>\n",
       "      <td>55.703143</td>\n",
       "    </tr>\n",
       "    <tr>\n",
       "      <th>max</th>\n",
       "      <td>118.527315</td>\n",
       "      <td>459.655378</td>\n",
       "      <td>29.631189</td>\n",
       "      <td>2882.592417</td>\n",
       "      <td>80.719648</td>\n",
       "    </tr>\n",
       "  </tbody>\n",
       "</table>\n",
       "</div>"
      ],
      "text/plain": [
       "       temperature     pressure   wind_speed          rpm  energy_output\n",
       "count  1584.000000  1584.000000  1584.000000  1584.000000    1584.000000\n",
       "mean     80.383618   300.878969     9.834489  1643.913519      49.438275\n",
       "std       9.947091    48.910344     5.092708   383.146289      10.041525\n",
       "min      47.587327   149.024392    -5.038162   705.824047      19.286285\n",
       "25%      73.545170   267.698502     6.398352  1378.025488      43.087931\n",
       "50%      80.467086   299.292750     9.841290  1574.656199      49.438275\n",
       "75%      86.640161   333.315625    13.061919  1830.844343      55.703143\n",
       "max     118.527315   459.655378    29.631189  2882.592417      80.719648"
      ]
     },
     "execution_count": 22,
     "metadata": {},
     "output_type": "execute_result"
    }
   ],
   "source": [
    "df.describe()"
   ]
  },
  {
   "cell_type": "code",
   "execution_count": null,
   "id": "940b70b8",
   "metadata": {},
   "outputs": [],
   "source": []
  }
 ],
 "metadata": {
  "kernelspec": {
   "display_name": "Python 3 (ipykernel)",
   "language": "python",
   "name": "python3"
  },
  "language_info": {
   "codemirror_mode": {
    "name": "ipython",
    "version": 3
   },
   "file_extension": ".py",
   "mimetype": "text/x-python",
   "name": "python",
   "nbconvert_exporter": "python",
   "pygments_lexer": "ipython3",
   "version": "3.10.6"
  }
 },
 "nbformat": 4,
 "nbformat_minor": 5
}
