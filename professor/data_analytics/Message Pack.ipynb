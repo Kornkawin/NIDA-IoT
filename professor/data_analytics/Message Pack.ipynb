{
 "cells": [
  {
   "cell_type": "code",
   "execution_count": 1,
   "id": "69f64f25",
   "metadata": {},
   "outputs": [],
   "source": [
    "import msgpack"
   ]
  },
  {
   "cell_type": "code",
   "execution_count": 2,
   "id": "96962f1a",
   "metadata": {},
   "outputs": [],
   "source": [
    "binary_data = b'\\x82\\xabtemperature\\xcb@7\\x80\\x00\\x00\\x00\\x00\\x00\\xa8humidity\\xcb@N\\x19\\x99\\x99\\x99\\x99\\x9a'"
   ]
  },
  {
   "cell_type": "code",
   "execution_count": 3,
   "id": "f51ffab7",
   "metadata": {},
   "outputs": [
    {
     "data": {
      "text/plain": [
       "40"
      ]
     },
     "execution_count": 3,
     "metadata": {},
     "output_type": "execute_result"
    }
   ],
   "source": [
    "len(binary_data)"
   ]
  },
  {
   "cell_type": "code",
   "execution_count": 4,
   "id": "89bffeb5",
   "metadata": {},
   "outputs": [],
   "source": [
    "unpacked_data = msgpack.unpackb(binary_data, raw=False)"
   ]
  },
  {
   "cell_type": "code",
   "execution_count": 5,
   "id": "6f088adc",
   "metadata": {},
   "outputs": [
    {
     "data": {
      "text/plain": [
       "{'temperature': 23.5, 'humidity': 60.2}"
      ]
     },
     "execution_count": 5,
     "metadata": {},
     "output_type": "execute_result"
    }
   ],
   "source": [
    "unpacked_data"
   ]
  },
  {
   "cell_type": "code",
   "execution_count": 6,
   "id": "7ecd1140",
   "metadata": {},
   "outputs": [],
   "source": [
    "person = {'name': 'Bob', 'age': 30}"
   ]
  },
  {
   "cell_type": "code",
   "execution_count": 9,
   "id": "117d1dff",
   "metadata": {},
   "outputs": [],
   "source": [
    "msg = msgpack.packb(person)"
   ]
  },
  {
   "cell_type": "code",
   "execution_count": 10,
   "id": "feb4fdce",
   "metadata": {},
   "outputs": [],
   "source": [
    "data = msgpack.unpackb(msg)"
   ]
  },
  {
   "cell_type": "code",
   "execution_count": 11,
   "id": "999b4b3e",
   "metadata": {},
   "outputs": [
    {
     "data": {
      "text/plain": [
       "{'name': 'Bob', 'age': 30}"
      ]
     },
     "execution_count": 11,
     "metadata": {},
     "output_type": "execute_result"
    }
   ],
   "source": [
    "data"
   ]
  },
  {
   "cell_type": "code",
   "execution_count": null,
   "id": "28c28fd7",
   "metadata": {},
   "outputs": [],
   "source": []
  }
 ],
 "metadata": {
  "kernelspec": {
   "display_name": "Python 3 (ipykernel)",
   "language": "python",
   "name": "python3"
  },
  "language_info": {
   "codemirror_mode": {
    "name": "ipython",
    "version": 3
   },
   "file_extension": ".py",
   "mimetype": "text/x-python",
   "name": "python",
   "nbconvert_exporter": "python",
   "pygments_lexer": "ipython3",
   "version": "3.10.6"
  }
 },
 "nbformat": 4,
 "nbformat_minor": 5
}
