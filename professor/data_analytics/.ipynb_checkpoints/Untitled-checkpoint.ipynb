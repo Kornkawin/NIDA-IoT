{
 "cells": [
  {
   "cell_type": "code",
   "execution_count": 1,
   "id": "08a97cf7",
   "metadata": {},
   "outputs": [],
   "source": [
    "import numpy as np"
   ]
  },
  {
   "cell_type": "code",
   "execution_count": 2,
   "id": "8870df25",
   "metadata": {},
   "outputs": [],
   "source": [
    "rand_sensor_data = np.random.rand(1000)"
   ]
  },
  {
   "cell_type": "code",
   "execution_count": 3,
   "id": "eb04ca69",
   "metadata": {},
   "outputs": [
    {
     "data": {
      "text/plain": [
       "array([0.71945933, 0.92382987, 0.50842847, 0.66793143, 0.39826118,\n",
       "       0.45897921, 0.54141922, 0.24144606, 0.60372758, 0.01678038])"
      ]
     },
     "execution_count": 3,
     "metadata": {},
     "output_type": "execute_result"
    }
   ],
   "source": [
    "rand_sensor_data[:10]"
   ]
  },
  {
   "cell_type": "code",
   "execution_count": 4,
   "id": "c976e4f5",
   "metadata": {},
   "outputs": [],
   "source": [
    "mean = np.mean(rand_sensor_data)"
   ]
  },
  {
   "cell_type": "code",
   "execution_count": 5,
   "id": "9379d941",
   "metadata": {},
   "outputs": [
    {
     "name": "stdout",
     "output_type": "stream",
     "text": [
      "0.5016410365935217\n"
     ]
    }
   ],
   "source": [
    "print(mean)"
   ]
  },
  {
   "cell_type": "code",
   "execution_count": 7,
   "id": "e83fb68c",
   "metadata": {},
   "outputs": [],
   "source": [
    "std_dev = np.std(rand_sensor_data)"
   ]
  },
  {
   "cell_type": "code",
   "execution_count": null,
   "id": "37f2bed7",
   "metadata": {},
   "outputs": [],
   "source": []
  }
 ],
 "metadata": {
  "kernelspec": {
   "display_name": "Python 3 (ipykernel)",
   "language": "python",
   "name": "python3"
  },
  "language_info": {
   "codemirror_mode": {
    "name": "ipython",
    "version": 3
   },
   "file_extension": ".py",
   "mimetype": "text/x-python",
   "name": "python",
   "nbconvert_exporter": "python",
   "pygments_lexer": "ipython3",
   "version": "3.10.6"
  }
 },
 "nbformat": 4,
 "nbformat_minor": 5
}
