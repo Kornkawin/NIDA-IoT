{
 "cells": [
  {
   "cell_type": "code",
   "execution_count": 1,
   "id": "e219d787",
   "metadata": {},
   "outputs": [],
   "source": [
    "import fastavro\n",
    "import io"
   ]
  },
  {
   "cell_type": "code",
   "execution_count": 2,
   "id": "e3dd0db6",
   "metadata": {},
   "outputs": [],
   "source": [
    "schema = {\n",
    "    \"type\": \"record\",\n",
    "    \"name\": \"SensorData\",\n",
    "    \"fields\": [\n",
    "        {\"name\": \"temperature\", \"type\": \"float\"},\n",
    "        {\"name\": \"humidity\", \"type\": \"float\"}\n",
    "    ]\n",
    "}"
   ]
  },
  {
   "cell_type": "code",
   "execution_count": 3,
   "id": "b60317d3",
   "metadata": {},
   "outputs": [],
   "source": [
    "binary_data = b'\\x00\\x01\\x06temperature\\x02=\\x00\\x06humidity\\x02\\x9d\\x99\\x1a@'"
   ]
  },
  {
   "cell_type": "code",
   "execution_count": 4,
   "id": "279ef95d",
   "metadata": {},
   "outputs": [],
   "source": [
    "bytes_io = io.BytesIO(binary_data)"
   ]
  },
  {
   "cell_type": "code",
   "execution_count": 5,
   "id": "c3ba8c41",
   "metadata": {},
   "outputs": [],
   "source": [
    "parsed_data = fastavro.schemaless_reader(bytes_io, schema)"
   ]
  },
  {
   "cell_type": "code",
   "execution_count": 6,
   "id": "08dec235",
   "metadata": {},
   "outputs": [
    {
     "data": {
      "text/plain": [
       "{'temperature': 4.246753304768497e+31, 'humidity': 7.096162055060919e+22}"
      ]
     },
     "execution_count": 6,
     "metadata": {},
     "output_type": "execute_result"
    }
   ],
   "source": [
    "parsed_data"
   ]
  },
  {
   "cell_type": "code",
   "execution_count": null,
   "id": "ba0fdf1c",
   "metadata": {},
   "outputs": [],
   "source": []
  }
 ],
 "metadata": {
  "kernelspec": {
   "display_name": "Python 3 (ipykernel)",
   "language": "python",
   "name": "python3"
  },
  "language_info": {
   "codemirror_mode": {
    "name": "ipython",
    "version": 3
   },
   "file_extension": ".py",
   "mimetype": "text/x-python",
   "name": "python",
   "nbconvert_exporter": "python",
   "pygments_lexer": "ipython3",
   "version": "3.10.6"
  }
 },
 "nbformat": 4,
 "nbformat_minor": 5
}
